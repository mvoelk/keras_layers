{
 "cells": [
  {
   "cell_type": "code",
   "execution_count": 2,
   "metadata": {},
   "outputs": [],
   "source": [
    "import numpy as np\n",
    "import matplotlib.pyplot as plt\n",
    "import tensorflow as tf\n",
    "import os\n",
    "\n",
    "os.environ['CUDA_VISIBLE_DEVICES'] = '-1'\n",
    "np.set_printoptions(linewidth=120, precision=4)\n",
    "\n",
    "from keras.layers import Input, Conv2D, Activation, Reshape, Lambda\n",
    "from keras.layers import MaxPool2D, AvgPool2D, MaxPool3D, AvgPool3D\n",
    "from keras.layers import BatchNormalization, Dropout\n",
    "from keras.models import Model\n",
    "from keras import backend as K"
   ]
  },
  {
   "cell_type": "markdown",
   "metadata": {},
   "source": [
    "### SparseConv2D and PartialConv2D\n",
    "\n",
    "see [sparseconvolution.ipynb](sparseconvolution.ipynb)"
   ]
  },
  {
   "cell_type": "markdown",
   "metadata": {},
   "source": [
    "### GroupConv2D"
   ]
  },
  {
   "cell_type": "code",
   "execution_count": 2,
   "metadata": {},
   "outputs": [
    {
     "name": "stdout",
     "output_type": "stream",
     "text": [
      "(None, 8, 8, 2)\n",
      "(None, 4, 4, 12)\n",
      "input_1                        [(None, 8, 8, 2)]        0        []\n",
      "group_conv2d                   (None, 8, 8, 8, 12)      216      [(3, 3, 2, 12)]\n",
      "batch_normalization            (None, 8, 8, 8, 12)      48       [(12,), (12,), (12,), (12,)]\n",
      "group_conv2d_1                 (None, 8, 8, 8, 12)      10368    [(3, 3, 96, 12)]\n",
      "average_pooling3d              (None, 4, 4, 8, 12)      0        []\n",
      "group_conv2d_2                 (None, 4, 4, 8, 12)      10368    [(3, 3, 96, 12)]\n",
      "max_pooling3d                  (None, 4, 4, 1, 12)      0        []\n",
      "lambda                         (None, 4, 4, 12)         0        []\n"
     ]
    },
    {
     "data": {
      "image/png": "[encoded data removed]",
      "text/plain": [
       "<Figure size 432x288 with 4 Axes>"
      ]
     },
     "metadata": {
      "needs_background": "light"
     },
     "output_type": "display_data"
    },
    {
     "data": {
      "image/png": "[encoded data removed]",
      "text/plain": [
       "<Figure size 432x288 with 3 Axes>"
      ]
     },
     "metadata": {
      "needs_background": "light"
     },
     "output_type": "display_data"
    }
   ],
   "source": [
    "from layers import GroupConv2D\n",
    "\n",
    "input_shape = (8,8,2)\n",
    "\n",
    "x = x_in = Input(input_shape)\n",
    "x = GroupConv2D(12, 3, group='D4', padding='same', activation='relu')(x)\n",
    "x = BatchNormalization()(x)\n",
    "x = GroupConv2D(12, 3, group='D4', padding='same', activation='relu')(x)\n",
    "x = AvgPool3D(pool_size=(2,2,1), strides=(2,2,1), padding='same')(x)\n",
    "x = GroupConv2D(12, 3, group='D4', padding='same', activation='relu')(x)\n",
    "x = MaxPool3D(pool_size=(1,1,x.shape[-2]))(x)\n",
    "x = Lambda(lambda x: K.squeeze(x, axis=-2))(x)\n",
    "model = Model(x_in, x)\n",
    "\n",
    "print(model.input_shape)\n",
    "print(model.output_shape)\n",
    "\n",
    "for l in model.layers:\n",
    "    print('%-30s %-24s %-8i'%(l.name, str(l.output_shape), l.count_params()), [tuple(w.shape) for w in l.weights])\n",
    "\n",
    "d = np.random.randn(*input_shape)\n",
    "\n",
    "# check rotation equivariance\n",
    "d_rot = np.stack([np.rot90(d, k=k) for k in range(4)])\n",
    "y_pred = model(d_rot)\n",
    "y_pred_inv = [np.rot90(y_pred[k], k=-k) for k in range(4)]\n",
    "for k in range(4):\n",
    "    plt.subplot(141+k)\n",
    "    y = y_pred_inv[k][:,:,1]\n",
    "    plt.imshow(y, vmin=np.min(y), vmax=np.max(y))\n",
    "    if k > 0:\n",
    "        plt.title('%.5f' % np.mean(np.abs(y_pred_inv[0]-y_pred_inv[k])))\n",
    "plt.show()\n",
    "\n",
    "# check reflection equivariance\n",
    "d_flip = np.stack([d, np.flip(d,0), np.flip(d,1)])\n",
    "y_pred = model(d_flip)\n",
    "y_pred_inv = [y_pred[0], np.flip(y_pred[1],0), np.flip(y_pred[2],1)]\n",
    "for k in range(3):\n",
    "    plt.subplot(141+k)\n",
    "    y = y_pred_inv[k][:,:,1]\n",
    "    plt.imshow(y, vmin=np.min(y), vmax=np.max(y))\n",
    "    if k > 0:\n",
    "        plt.title('%.5f' % np.mean(np.abs(y_pred_inv[0]-y_pred_inv[k])))\n",
    "plt.show()"
   ]
  },
  {
   "cell_type": "code",
   "execution_count": 3,
   "metadata": {},
   "outputs": [
    {
     "data": {
      "image/png": "[encoded data removed]",
      "text/plain": [
       "<Figure size 576x144 with 8 Axes>"
      ]
     },
     "metadata": {},
     "output_type": "display_data"
    }
   ],
   "source": [
    "def plot_indices(indices):\n",
    "    assert len(indices.shape) == 4\n",
    "    nto, nti, k, k = indices.shape\n",
    "    for m in range(nti):\n",
    "        plt.figure(figsize=(nto,2))\n",
    "        for l in range(nto):\n",
    "            plt.subplot(1,nto, l+1)\n",
    "            idxs = indices[l,m,:,:]\n",
    "            plt.imshow(idxs)\n",
    "            #plt.imshow(idxs, vmin=0, vmax=np.max(indices))\n",
    "            plt.xticks([]); plt.yticks([])\n",
    "            for j in range(idxs.shape[0]):\n",
    "                for i in range(idxs.shape[1]):\n",
    "                    plt.text(i,j,idxs[j,i], ha='center',va='center')\n",
    "        plt.show()\n",
    "\n",
    "plot_indices(model.layers[1].indices)"
   ]
  },
  {
   "cell_type": "markdown",
   "metadata": {},
   "source": [
    "Convert the GroupConv2D model into a normal Conv2D model and get same performance during inference."
   ]
  },
  {
   "cell_type": "code",
   "execution_count": 2,
   "metadata": {},
   "outputs": [
    {
     "data": {
      "image/png": "[encoded data removed]",
      "text/plain": [
       "<Figure size 576x144 with 2 Axes>"
      ]
     },
     "metadata": {
      "needs_background": "light"
     },
     "output_type": "display_data"
    }
   ],
   "source": [
    "from layers import GroupConv2D, Conv2D\n",
    "\n",
    "input_shape = (8,8,2)\n",
    "\n",
    "d = np.random.randn(1, *input_shape)\n",
    "\n",
    "x = x_in = Input(input_shape)\n",
    "x = GroupConv2D(12, 3, group='D4', padding='same', activation='relu')(x)\n",
    "x = GroupConv2D(12, 3, group='D4', padding='same', activation='relu')(x)\n",
    "s = x.shape\n",
    "x = Reshape((s[1], s[2], -1))(x)\n",
    "model_1 = Model(x_in, x)\n",
    "\n",
    "y_pred_1 = model_1(d)\n",
    "\n",
    "x = x_in = Input(input_shape)\n",
    "x = Conv2D(12*8, 3, padding='same', activation='relu')(x)\n",
    "x = Conv2D(12*8, 3, padding='same', activation='relu')(x)\n",
    "model_2 = Model(x_in, x)\n",
    "\n",
    "for i in [1,2]:\n",
    "    model_2.layers[i].set_weights([model_1.layers[i].transformed_kernel])\n",
    "\n",
    "y_pred_2 = model_2(d)\n",
    "\n",
    "plt.figure(figsize=(8,2))\n",
    "plt.subplot(141); plt.title('GroupConv2D')\n",
    "plt.imshow(y_pred_1[0,:,:,0])\n",
    "plt.subplot(142); plt.title('Conv2D')\n",
    "plt.imshow(y_pred_2[0,:,:,0])\n",
    "plt.show()"
   ]
  },
  {
   "cell_type": "markdown",
   "metadata": {},
   "source": [
    "### MaxPoolingWithArgmax2D and MaxUnpooling2D"
   ]
  },
  {
   "cell_type": "code",
   "execution_count": 2,
   "metadata": {},
   "outputs": [
    {
     "name": "stdout",
     "output_type": "stream",
     "text": [
      "(None, 32, 32, 10)\n",
      "[(None, None, None, None), (None, 16, 16, 10), (None, 16, 16, 10)]\n",
      "[(4, 32, 32, 10), (4, 16, 16, 10), (4, 16, 16, 10)]\n",
      "\n",
      "[[0.4659 0.2935]\n",
      " [0.0227 0.4706]]\n",
      "0.47061765 330\n",
      "[[0.     0.    ]\n",
      " [0.     0.4706]]\n"
     ]
    },
    {
     "data": {
      "image/png": "[encoded data removed]",
      "text/plain": [
       "<Figure size 1008x216 with 4 Axes>"
      ]
     },
     "metadata": {
      "needs_background": "light"
     },
     "output_type": "display_data"
    }
   ],
   "source": [
    "from layers import MaxPoolingWithArgmax2D, MaxUnpooling2D\n",
    "\n",
    "size = 2\n",
    "x = x_in = Input(shape=(32, 32, 10))\n",
    "x, m = MaxPoolingWithArgmax2D(pool_size=size)(x)\n",
    "x_p = x\n",
    "x = MaxUnpooling2D(size=size)([x,m])\n",
    "model = Model(x_in, [x,m,x_p])\n",
    "\n",
    "print(model.input_shape)\n",
    "print(model.output_shape)\n",
    "\n",
    "batch = np.random.rand(4,32,32,10).astype('float32')\n",
    "\n",
    "preds = model.predict(batch)\n",
    "print([e.shape for e in preds])\n",
    "\n",
    "for i in [0]:\n",
    "    print()\n",
    "    print(batch[0][:size,:size,i])\n",
    "    print(preds[2][0][0,0,i], int(preds[1][0][0,0,i]))\n",
    "    print(preds[0][0][:size,:size,i])\n",
    "    \n",
    "plt.figure(figsize=(14,3))\n",
    "plt.subplot(141); plt.title('input')\n",
    "plt.imshow(batch[0,:,:,0])\n",
    "plt.subplot(142); plt.title('maxpooling')\n",
    "plt.imshow(preds[2][0,:,:,0])\n",
    "plt.subplot(143); plt.title('indices')\n",
    "plt.imshow(preds[1][0,:,:,0])\n",
    "plt.subplot(144); plt.title('unpooling')\n",
    "plt.imshow(preds[0][0,:,:,0])\n",
    "plt.show()"
   ]
  },
  {
   "cell_type": "markdown",
   "metadata": {},
   "source": [
    "### MaxPoolingWithRelativePosition2D"
   ]
  },
  {
   "cell_type": "code",
   "execution_count": 4,
   "metadata": {},
   "outputs": [
    {
     "name": "stdout",
     "output_type": "stream",
     "text": [
      "(None, 24, 32, 10)\n",
      "[(None, 24, 32, 10), (None, 24, 32, 20)]\n"
     ]
    },
    {
     "data": {
      "image/png": "[encoded data removed]",
      "text/plain": [
       "<Figure size 1224x165.6 with 6 Axes>"
      ]
     },
     "metadata": {
      "needs_background": "light"
     },
     "output_type": "display_data"
    }
   ],
   "source": [
    "from layers import MaxPoolingWithRelativePosition2D\n",
    "\n",
    "input_shape = (24, 32, 10)\n",
    "x = x_in = Input(shape=input_shape)\n",
    "x, p = MaxPoolingWithRelativePosition2D(pool_size=11)(x)\n",
    "model = Model(x_in, [x,p])\n",
    "\n",
    "print(model.input_shape)\n",
    "print(model.output_shape)\n",
    "\n",
    "batch = np.random.rand(4,*input_shape).astype('float32')\n",
    "\n",
    "preds = model(batch)\n",
    "\n",
    "plt.figure(figsize=(17,2.3))\n",
    "plt.subplot(141); plt.title('input')\n",
    "plt.imshow(batch[0,:,:,0])\n",
    "plt.subplot(142); plt.title('max pooling')\n",
    "plt.imshow(preds[0][0,:,:,0])\n",
    "plt.subplot(143); plt.title('relative position in y')\n",
    "plt.imshow(preds[1][0,:,:,0]); plt.colorbar()\n",
    "plt.subplot(144); plt.title('relative position in x')\n",
    "plt.imshow(preds[1][0,:,:,input_shape[-1]]); plt.colorbar()\n",
    "plt.show()"
   ]
  },
  {
   "cell_type": "markdown",
   "metadata": {},
   "source": [
    "### AddCoord2D"
   ]
  },
  {
   "cell_type": "code",
   "execution_count": 3,
   "metadata": {},
   "outputs": [
    {
     "name": "stdout",
     "output_type": "stream",
     "text": [
      "(None, 28, 28, 3)\n",
      "(None, 28, 28, 5)\n",
      "[[ 0.4147  0.2122  0.4213 -1.      0.9259]\n",
      " [ 0.277   0.7857  0.39   -0.9259  0.9259]\n",
      " [ 0.1146  0.0171  0.1901 -0.8519  0.9259]\n",
      " [ 0.9058  0.5574  0.0226 -0.7778  0.9259]\n",
      " [ 0.2437  0.0084  0.559  -0.7037  0.9259]\n",
      " [ 0.041   0.4743  0.4853 -0.6296  0.9259]\n",
      " [ 0.4955  0.8261  0.0195 -0.5556  0.9259]\n",
      " [ 0.0021  0.3706  0.508  -0.4815  0.9259]\n",
      " [ 0.556   0.6704  0.9399 -0.4074  0.9259]\n",
      " [ 0.331   0.3188  0.5686 -0.3333  0.9259]\n",
      " [ 0.9825  0.283   0.1884 -0.2593  0.9259]\n",
      " [ 0.5171  0.5946  0.0987 -0.1852  0.9259]\n",
      " [ 0.4246  0.4799  0.4373 -0.1111  0.9259]\n",
      " [ 0.8     0.7057  0.7673 -0.037   0.9259]\n",
      " [ 0.0434  0.3547  0.2791  0.037   0.9259]\n",
      " [ 0.5431  0.6299  0.1728  0.1111  0.9259]\n",
      " [ 0.2309  0.578   0.4045  0.1852  0.9259]\n",
      " [ 0.5644  0.0977  0.7081  0.2593  0.9259]\n",
      " [ 0.3113  0.6464  0.8978  0.3333  0.9259]\n",
      " [ 0.1136  0.4867  0.8515  0.4074  0.9259]\n",
      " [ 0.8031  0.8038  0.6576  0.4815  0.9259]\n",
      " [ 0.3704  0.3949  0.9279  0.5556  0.9259]\n",
      " [ 0.6792  0.339   0.6366  0.6296  0.9259]\n",
      " [ 0.4639  0.5134  0.7409  0.7037  0.9259]\n",
      " [ 0.4403  0.1509  0.1581  0.7778  0.9259]\n",
      " [ 0.6374  0.4545  0.7302  0.8519  0.9259]\n",
      " [ 0.695   0.2277  0.1998  0.9259  0.9259]\n",
      " [ 0.992   0.6593  0.1006  1.      0.9259]]\n"
     ]
    }
   ],
   "source": [
    "from layers import AddCoords2D\n",
    "\n",
    "x = x_in = Input(shape=(28, 28, 3))\n",
    "x = AddCoords2D()(x)\n",
    "model = Model(x_in, x)\n",
    "\n",
    "print(model.input_shape)\n",
    "print(model.output_shape)\n",
    "\n",
    "batch = np.random.rand(4,28,28,3).astype('float32')\n",
    "\n",
    "preds = model.predict(batch)\n",
    "print(preds[0][-2,:,:])"
   ]
  },
  {
   "cell_type": "markdown",
   "metadata": {},
   "source": [
    "### DepthwiseConv2D"
   ]
  },
  {
   "cell_type": "code",
   "execution_count": 4,
   "metadata": {},
   "outputs": [
    {
     "name": "stdout",
     "output_type": "stream",
     "text": [
      "(None, 28, 28, 3)\n",
      "(None, 28, 28, 32)\n",
      "[ 0.031  -0.2327 -0.3472 -0.3636 -0.04   -0.2751 -0.1038  0.1884 -0.3158 -0.005   0.3535 -0.0798 -0.1447\n",
      "  0.019  -0.5067 -0.1077  0.1027 -0.0345  0.1869  0.2644 -0.2179  0.3228  0.2713 -0.2901  0.0245  0.0948\n",
      " -0.0273 -0.0285  0.3437  0.4658 -0.0039 -0.3469]\n"
     ]
    }
   ],
   "source": [
    "from layers import DepthwiseConv2D\n",
    "\n",
    "cm = 2 # channel_multiplier\n",
    "\n",
    "x = x_in = Input(shape=(28, 28, 3))\n",
    "x = Conv2D(16, (3,3), padding='same')(x)\n",
    "x = DepthwiseConv2D(cm, (3,3), padding='same')(x)\n",
    "x = Conv2D(16*cm, (1,1), padding='same')(x)\n",
    "model = Model(x_in, x)\n",
    "\n",
    "print(model.input_shape)\n",
    "print(model.output_shape)\n",
    "\n",
    "batch = np.random.rand(4,28,28,3).astype('float32')\n",
    "\n",
    "preds = model.predict(batch)\n",
    "print(preds[0][0,0,:])"
   ]
  },
  {
   "cell_type": "markdown",
   "metadata": {},
   "source": [
    "### LayerNormalization"
   ]
  },
  {
   "cell_type": "code",
   "execution_count": 2,
   "metadata": {
    "scrolled": false
   },
   "outputs": [
    {
     "name": "stdout",
     "output_type": "stream",
     "text": [
      "(None, 28, 28, 3)\n",
      "(None, 28, 28, 3)\n",
      "0.08324947 0.99998516\n"
     ]
    }
   ],
   "source": [
    "from layers import LayerNormalization\n",
    "\n",
    "x = x_in = Input(shape=(28, 28, 3))\n",
    "x = LayerNormalization()(x)\n",
    "model = Model(x_in, x)\n",
    "\n",
    "print(model.input_shape)\n",
    "print(model.output_shape)\n",
    "\n",
    "batch = np.random.rand(4,28,28,3).astype('float32')\n",
    "\n",
    "preds = model.predict(batch)\n",
    "\n",
    "print(np.var(batch), np.var(preds))"
   ]
  },
  {
   "cell_type": "markdown",
   "metadata": {},
   "source": [
    "### Conv2D (Weight Normalization)"
   ]
  },
  {
   "cell_type": "code",
   "execution_count": 3,
   "metadata": {},
   "outputs": [
    {
     "name": "stdout",
     "output_type": "stream",
     "text": [
      "(None, 28, 28, 3)\n",
      "[(None, 26, 26, 10), (None, 26, 26, 10)]\n",
      "0.084439 8.107712 0.21911137\n"
     ]
    }
   ],
   "source": [
    "from layers import Conv2D, gaussian_init\n",
    "\n",
    "x = x_in = Input(shape=(28, 28, 3))\n",
    "x1 = Conv2D(10, 3, kernel_initializer=gaussian_init)(x)\n",
    "x2 = Conv2D(10, 3, kernel_initializer=gaussian_init, weightnorm=True)(x)\n",
    "model = Model([x_in], [x1, x2])\n",
    "\n",
    "print(model.input_shape)\n",
    "print(model.output_shape)\n",
    "\n",
    "batch = np.random.rand(4,28,28,3).astype('float32')\n",
    "preds = model.predict(batch)\n",
    "\n",
    "print(np.var(batch), np.var(preds[0]), np.var(preds[1]))"
   ]
  },
  {
   "cell_type": "markdown",
   "metadata": {},
   "source": [
    "### Resize2D"
   ]
  },
  {
   "cell_type": "code",
   "execution_count": 7,
   "metadata": {},
   "outputs": [
    {
     "name": "stdout",
     "output_type": "stream",
     "text": [
      "(None, 12, 12, 1)\n",
      "[(None, 6, 6, 1), (None, 24, 24, 1), (None, 6, 6, 1), (None, 24, 24, 1)]\n"
     ]
    },
    {
     "data": {
      "image/png": "[encoded data removed]",
      "text/plain": [
       "<Figure size 1152x216 with 5 Axes>"
      ]
     },
     "metadata": {
      "needs_background": "light"
     },
     "output_type": "display_data"
    }
   ],
   "source": [
    "from layers import Resize2D\n",
    "\n",
    "s = 12\n",
    "s1, s2 = s//2, s*2\n",
    "\n",
    "x = x_in = Input(shape=(s, s, 1))\n",
    "x1 = Resize2D((s1,s1), 'bilinear')(x)\n",
    "x2 = Resize2D((s2,s2), 'bilinear')(x)\n",
    "x3 = Resize2D((s1,s1), 'nearest')(x)\n",
    "x4 = Resize2D((s2,s2), 'nearest')(x)\n",
    "model = Model(x_in, [x1,x2,x3,x4])\n",
    "\n",
    "print(model.input_shape)\n",
    "print(model.output_shape)\n",
    "\n",
    "batch = np.random.rand(4,s,s,1).astype('float32')\n",
    "\n",
    "preds = model.predict(batch)\n",
    "\n",
    "plt.figure(figsize=(16,3))\n",
    "plt.subplot(151); plt.title('input')\n",
    "plt.imshow(batch[0,:,:,0])\n",
    "plt.subplot(152); plt.title('bilinear %.1f' % (s1/s,))\n",
    "plt.imshow(preds[0][0,:,:,0])\n",
    "plt.subplot(153); plt.title('bilinear %.1f' % (s2/s,))\n",
    "plt.imshow(preds[1][0,:,:,0])\n",
    "plt.subplot(154); plt.title('nearest %.1f' % (s1/s,))\n",
    "plt.imshow(preds[2][0,:,:,0])\n",
    "plt.subplot(155); plt.title('nearest %.1f' % (s2/s,))\n",
    "plt.imshow(preds[3][0,:,:,0])\n",
    "plt.show()"
   ]
  },
  {
   "cell_type": "markdown",
   "metadata": {},
   "source": [
    "### Blur2D"
   ]
  },
  {
   "cell_type": "code",
   "execution_count": 2,
   "metadata": {},
   "outputs": [
    {
     "data": {
      "image/png": "[encoded data removed]",
      "text/plain": [
       "<Figure size 1152x216 with 5 Axes>"
      ]
     },
     "metadata": {
      "needs_background": "light"
     },
     "output_type": "display_data"
    }
   ],
   "source": [
    "from layers import Blur2D\n",
    "\n",
    "x = x_in = Input(shape=(32, 32, 10))\n",
    "x1 = MaxPool2D(3, 2, padding='same')(x)\n",
    "x2 = AvgPool2D(3, 2, padding='same')(x)\n",
    "x3 = Blur2D(5, 2, padding='same')(x)\n",
    "x4 = Blur2D(7, 2, padding='same')(x)\n",
    "\n",
    "model = Model(x_in, [x1,x2,x3,x4])\n",
    "\n",
    "batch = np.random.binomial(4, 0.5, size=(4,32,32,10)) / 4\n",
    "batch[:,:16,16:] = 0\n",
    "batch[:,4:8,20:24] = 1\n",
    "\n",
    "preds = model.predict(batch)\n",
    "\n",
    "plt.figure(figsize=(16,3))\n",
    "plt.subplot(151); plt.title('input')\n",
    "plt.imshow(batch[0,:,:,0], vmin=0, vmax=1)\n",
    "plt.subplot(152); plt.title('max 3')\n",
    "plt.imshow(preds[0][0,:,:,0], vmin=0, vmax=1)\n",
    "plt.subplot(153); plt.title('avg 3')\n",
    "plt.imshow(preds[1][0,:,:,0], vmin=0, vmax=1)\n",
    "plt.subplot(154); plt.title('blur 5')\n",
    "plt.imshow(preds[2][0,:,:,0], vmin=0, vmax=1)\n",
    "plt.subplot(155); plt.title('blur 7')\n",
    "plt.imshow(preds[3][0,:,:,0], vmin=0, vmax=1)\n",
    "plt.show()"
   ]
  },
  {
   "cell_type": "code",
   "execution_count": null,
   "metadata": {},
   "outputs": [],
   "source": []
  },
  {
   "cell_type": "code",
   "execution_count": null,
   "metadata": {},
   "outputs": [],
   "source": []
  }
 ],
 "metadata": {
  "kernelspec": {
   "display_name": "Python 3 (ipykernel)",
   "language": "python",
   "name": "python3"
  },
  "language_info": {
   "codemirror_mode": {
    "name": "ipython",
    "version": 3
   },
   "file_extension": ".py",
   "mimetype": "text/x-python",
   "name": "python",
   "nbconvert_exporter": "python",
   "pygments_lexer": "ipython3",
   "version": "3.8.10"
  },
  "toc": {
   "base_numbering": 1,
   "nav_menu": {},
   "number_sections": true,
   "sideBar": true,
   "skip_h1_title": false,
   "title_cell": "Table of Contents",
   "title_sidebar": "Contents",
   "toc_cell": false,
   "toc_position": {},
   "toc_section_display": true,
   "toc_window_display": false
  },
  "varInspector": {
   "cols": {
    "lenName": 16,
    "lenType": 16,
    "lenVar": 40
   },
   "kernels_config": {
    "python": {
     "delete_cmd_postfix": "",
     "delete_cmd_prefix": "del ",
     "library": "var_list.py",
     "varRefreshCmd": "print(var_dic_list())"
    },
    "r": {
     "delete_cmd_postfix": ") ",
     "delete_cmd_prefix": "rm(",
     "library": "var_list.r",
     "varRefreshCmd": "cat(var_dic_list()) "
    }
   },
   "types_to_exclude": [
    "module",
    "function",
    "builtin_function_or_method",
    "instance",
    "_Feature"
   ],
   "window_display": false
  }
 },
 "nbformat": 4,
 "nbformat_minor": 2
}
